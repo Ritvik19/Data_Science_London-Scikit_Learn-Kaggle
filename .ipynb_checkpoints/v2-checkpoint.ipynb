{
 "cells": [
  {
   "cell_type": "markdown",
   "metadata": {},
   "source": [
    "# Imports"
   ]
  },
  {
   "cell_type": "code",
   "execution_count": 1,
   "metadata": {
    "ExecuteTime": {
     "end_time": "2019-05-06T06:44:37.685649Z",
     "start_time": "2019-05-06T06:44:34.061142Z"
    }
   },
   "outputs": [],
   "source": [
    "import numpy as np\n",
    "import pandas as pd"
   ]
  },
  {
   "cell_type": "code",
   "execution_count": 2,
   "metadata": {
    "ExecuteTime": {
     "end_time": "2019-05-06T06:44:38.452966Z",
     "start_time": "2019-05-06T06:44:37.689661Z"
    }
   },
   "outputs": [],
   "source": [
    "import matplotlib.pyplot as plt\n",
    "import seaborn as sns\n",
    "%matplotlib inline"
   ]
  },
  {
   "cell_type": "code",
   "execution_count": 3,
   "metadata": {
    "ExecuteTime": {
     "end_time": "2019-05-06T06:44:38.461510Z",
     "start_time": "2019-05-06T06:44:38.456935Z"
    }
   },
   "outputs": [],
   "source": [
    "pd.options.display.max_columns= 45\n",
    "pd.options.display.max_rows = 1000"
   ]
  },
  {
   "cell_type": "code",
   "execution_count": 4,
   "metadata": {
    "ExecuteTime": {
     "end_time": "2019-05-06T06:44:38.596571Z",
     "start_time": "2019-05-06T06:44:38.465500Z"
    }
   },
   "outputs": [],
   "source": [
    "from ipywidgets import interact, interactive, fixed, interact_manual\n",
    "import ipywidgets as widgets"
   ]
  },
  {
   "cell_type": "code",
   "execution_count": 5,
   "metadata": {
    "ExecuteTime": {
     "end_time": "2019-05-06T06:44:38.724858Z",
     "start_time": "2019-05-06T06:44:38.599561Z"
    }
   },
   "outputs": [],
   "source": [
    "import warnings\n",
    "warnings.filterwarnings(\"ignore\")"
   ]
  },
  {
   "cell_type": "markdown",
   "metadata": {},
   "source": [
    "# Data"
   ]
  },
  {
   "cell_type": "code",
   "execution_count": 6,
   "metadata": {
    "ExecuteTime": {
     "end_time": "2019-05-06T06:44:38.962792Z",
     "start_time": "2019-05-06T06:44:38.732572Z"
    }
   },
   "outputs": [],
   "source": [
    "data = pd.read_csv('train.csv', header=None)\n",
    "train_label = pd.read_csv('trainLabels.csv', header=None)\n",
    "data['label'] = train_label[0]"
   ]
  },
  {
   "cell_type": "code",
   "execution_count": 7,
   "metadata": {
    "ExecuteTime": {
     "end_time": "2019-05-06T06:44:39.337521Z",
     "start_time": "2019-05-06T06:44:38.965603Z"
    },
    "scrolled": true
   },
   "outputs": [
    {
     "data": {
      "text/html": [
       "<div>\n",
       "<style scoped>\n",
       "    .dataframe tbody tr th:only-of-type {\n",
       "        vertical-align: middle;\n",
       "    }\n",
       "\n",
       "    .dataframe tbody tr th {\n",
       "        vertical-align: top;\n",
       "    }\n",
       "\n",
       "    .dataframe thead th {\n",
       "        text-align: right;\n",
       "    }\n",
       "</style>\n",
       "<table border=\"1\" class=\"dataframe\">\n",
       "  <thead>\n",
       "    <tr style=\"text-align: right;\">\n",
       "      <th></th>\n",
       "      <th>0</th>\n",
       "      <th>1</th>\n",
       "      <th>2</th>\n",
       "      <th>3</th>\n",
       "      <th>4</th>\n",
       "      <th>5</th>\n",
       "      <th>6</th>\n",
       "      <th>7</th>\n",
       "      <th>8</th>\n",
       "      <th>9</th>\n",
       "      <th>10</th>\n",
       "      <th>11</th>\n",
       "      <th>12</th>\n",
       "      <th>13</th>\n",
       "      <th>14</th>\n",
       "      <th>15</th>\n",
       "      <th>16</th>\n",
       "      <th>17</th>\n",
       "      <th>18</th>\n",
       "      <th>19</th>\n",
       "      <th>20</th>\n",
       "      <th>21</th>\n",
       "      <th>22</th>\n",
       "      <th>23</th>\n",
       "      <th>24</th>\n",
       "      <th>25</th>\n",
       "      <th>26</th>\n",
       "      <th>27</th>\n",
       "      <th>28</th>\n",
       "      <th>29</th>\n",
       "      <th>30</th>\n",
       "      <th>31</th>\n",
       "      <th>32</th>\n",
       "      <th>33</th>\n",
       "      <th>34</th>\n",
       "      <th>35</th>\n",
       "      <th>36</th>\n",
       "      <th>37</th>\n",
       "      <th>38</th>\n",
       "      <th>39</th>\n",
       "      <th>label</th>\n",
       "    </tr>\n",
       "  </thead>\n",
       "  <tbody>\n",
       "    <tr>\n",
       "      <th>count</th>\n",
       "      <td>1000.000000</td>\n",
       "      <td>1000.000000</td>\n",
       "      <td>1000.000000</td>\n",
       "      <td>1000.000000</td>\n",
       "      <td>1000.000000</td>\n",
       "      <td>1000.000000</td>\n",
       "      <td>1000.000000</td>\n",
       "      <td>1000.000000</td>\n",
       "      <td>1000.000000</td>\n",
       "      <td>1000.000000</td>\n",
       "      <td>1000.000000</td>\n",
       "      <td>1000.000000</td>\n",
       "      <td>1000.000000</td>\n",
       "      <td>1000.000000</td>\n",
       "      <td>1000.000000</td>\n",
       "      <td>1000.000000</td>\n",
       "      <td>1000.000000</td>\n",
       "      <td>1000.000000</td>\n",
       "      <td>1000.000000</td>\n",
       "      <td>1000.000000</td>\n",
       "      <td>1000.000000</td>\n",
       "      <td>1000.000000</td>\n",
       "      <td>1000.000000</td>\n",
       "      <td>1000.000000</td>\n",
       "      <td>1000.000000</td>\n",
       "      <td>1000.000000</td>\n",
       "      <td>1000.000000</td>\n",
       "      <td>1000.000000</td>\n",
       "      <td>1000.000000</td>\n",
       "      <td>1000.000000</td>\n",
       "      <td>1000.000000</td>\n",
       "      <td>1000.000000</td>\n",
       "      <td>1000.000000</td>\n",
       "      <td>1000.000000</td>\n",
       "      <td>1000.000000</td>\n",
       "      <td>1000.000000</td>\n",
       "      <td>1000.000000</td>\n",
       "      <td>1000.000000</td>\n",
       "      <td>1000.000000</td>\n",
       "      <td>1000.000000</td>\n",
       "      <td>1000.00000</td>\n",
       "    </tr>\n",
       "    <tr>\n",
       "      <th>mean</th>\n",
       "      <td>0.025596</td>\n",
       "      <td>-0.024526</td>\n",
       "      <td>-0.024088</td>\n",
       "      <td>-0.002271</td>\n",
       "      <td>1.092329</td>\n",
       "      <td>-0.006250</td>\n",
       "      <td>0.497342</td>\n",
       "      <td>-0.037883</td>\n",
       "      <td>0.026391</td>\n",
       "      <td>-0.003597</td>\n",
       "      <td>-0.016250</td>\n",
       "      <td>-0.038010</td>\n",
       "      <td>-1.985616</td>\n",
       "      <td>0.012374</td>\n",
       "      <td>-0.029229</td>\n",
       "      <td>-0.039307</td>\n",
       "      <td>-0.004091</td>\n",
       "      <td>-0.032836</td>\n",
       "      <td>0.428313</td>\n",
       "      <td>0.043427</td>\n",
       "      <td>0.073461</td>\n",
       "      <td>-0.005140</td>\n",
       "      <td>0.912288</td>\n",
       "      <td>0.902301</td>\n",
       "      <td>-0.023110</td>\n",
       "      <td>0.047473</td>\n",
       "      <td>-0.041117</td>\n",
       "      <td>0.012985</td>\n",
       "      <td>-0.395782</td>\n",
       "      <td>0.123921</td>\n",
       "      <td>0.030651</td>\n",
       "      <td>0.022951</td>\n",
       "      <td>-0.542491</td>\n",
       "      <td>-0.011608</td>\n",
       "      <td>-0.483507</td>\n",
       "      <td>0.033371</td>\n",
       "      <td>0.567185</td>\n",
       "      <td>0.006849</td>\n",
       "      <td>-0.892659</td>\n",
       "      <td>0.609451</td>\n",
       "      <td>0.51000</td>\n",
       "    </tr>\n",
       "    <tr>\n",
       "      <th>std</th>\n",
       "      <td>1.008282</td>\n",
       "      <td>1.016298</td>\n",
       "      <td>0.979109</td>\n",
       "      <td>0.970575</td>\n",
       "      <td>4.538834</td>\n",
       "      <td>0.989128</td>\n",
       "      <td>2.118819</td>\n",
       "      <td>2.232256</td>\n",
       "      <td>1.001064</td>\n",
       "      <td>1.013520</td>\n",
       "      <td>1.026325</td>\n",
       "      <td>0.985889</td>\n",
       "      <td>4.528096</td>\n",
       "      <td>0.995652</td>\n",
       "      <td>2.164547</td>\n",
       "      <td>1.002481</td>\n",
       "      <td>0.970401</td>\n",
       "      <td>1.000130</td>\n",
       "      <td>2.176020</td>\n",
       "      <td>0.987689</td>\n",
       "      <td>0.967282</td>\n",
       "      <td>0.980319</td>\n",
       "      <td>2.178778</td>\n",
       "      <td>4.241903</td>\n",
       "      <td>1.019566</td>\n",
       "      <td>0.995752</td>\n",
       "      <td>0.998182</td>\n",
       "      <td>1.030610</td>\n",
       "      <td>2.296818</td>\n",
       "      <td>2.410453</td>\n",
       "      <td>1.011645</td>\n",
       "      <td>1.001375</td>\n",
       "      <td>2.239939</td>\n",
       "      <td>1.022456</td>\n",
       "      <td>2.121281</td>\n",
       "      <td>1.007044</td>\n",
       "      <td>2.227876</td>\n",
       "      <td>0.997635</td>\n",
       "      <td>2.022022</td>\n",
       "      <td>2.045439</td>\n",
       "      <td>0.50015</td>\n",
       "    </tr>\n",
       "    <tr>\n",
       "      <th>min</th>\n",
       "      <td>-3.365711</td>\n",
       "      <td>-3.492086</td>\n",
       "      <td>-2.695602</td>\n",
       "      <td>-3.460471</td>\n",
       "      <td>-16.421901</td>\n",
       "      <td>-3.041250</td>\n",
       "      <td>-7.224761</td>\n",
       "      <td>-6.509084</td>\n",
       "      <td>-3.145588</td>\n",
       "      <td>-2.749812</td>\n",
       "      <td>-3.304074</td>\n",
       "      <td>-3.157436</td>\n",
       "      <td>-14.706080</td>\n",
       "      <td>-3.002151</td>\n",
       "      <td>-6.790633</td>\n",
       "      <td>-2.914729</td>\n",
       "      <td>-3.464048</td>\n",
       "      <td>-2.944093</td>\n",
       "      <td>-8.258306</td>\n",
       "      <td>-3.423875</td>\n",
       "      <td>-4.251382</td>\n",
       "      <td>-2.822644</td>\n",
       "      <td>-6.337522</td>\n",
       "      <td>-16.156070</td>\n",
       "      <td>-3.218446</td>\n",
       "      <td>-2.820792</td>\n",
       "      <td>-3.023811</td>\n",
       "      <td>-3.054384</td>\n",
       "      <td>-8.034421</td>\n",
       "      <td>-7.105723</td>\n",
       "      <td>-3.379194</td>\n",
       "      <td>-2.971125</td>\n",
       "      <td>-7.840890</td>\n",
       "      <td>-2.999564</td>\n",
       "      <td>-7.124105</td>\n",
       "      <td>-2.952358</td>\n",
       "      <td>-5.452254</td>\n",
       "      <td>-3.473913</td>\n",
       "      <td>-8.051722</td>\n",
       "      <td>-7.799086</td>\n",
       "      <td>0.00000</td>\n",
       "    </tr>\n",
       "    <tr>\n",
       "      <th>25%</th>\n",
       "      <td>-0.669010</td>\n",
       "      <td>-0.693937</td>\n",
       "      <td>-0.698830</td>\n",
       "      <td>-0.617557</td>\n",
       "      <td>-1.801997</td>\n",
       "      <td>-0.732265</td>\n",
       "      <td>-0.838619</td>\n",
       "      <td>-1.604037</td>\n",
       "      <td>-0.677562</td>\n",
       "      <td>-0.682220</td>\n",
       "      <td>-0.713704</td>\n",
       "      <td>-0.730293</td>\n",
       "      <td>-5.094964</td>\n",
       "      <td>-0.694081</td>\n",
       "      <td>-1.441443</td>\n",
       "      <td>-0.757619</td>\n",
       "      <td>-0.668335</td>\n",
       "      <td>-0.727001</td>\n",
       "      <td>-0.983595</td>\n",
       "      <td>-0.594638</td>\n",
       "      <td>-0.588171</td>\n",
       "      <td>-0.698036</td>\n",
       "      <td>-0.542526</td>\n",
       "      <td>-1.822188</td>\n",
       "      <td>-0.720837</td>\n",
       "      <td>-0.617001</td>\n",
       "      <td>-0.668062</td>\n",
       "      <td>-0.696411</td>\n",
       "      <td>-1.936374</td>\n",
       "      <td>-1.562374</td>\n",
       "      <td>-0.659457</td>\n",
       "      <td>-0.696032</td>\n",
       "      <td>-2.121943</td>\n",
       "      <td>-0.664550</td>\n",
       "      <td>-1.879247</td>\n",
       "      <td>-0.642861</td>\n",
       "      <td>-1.059786</td>\n",
       "      <td>-0.691162</td>\n",
       "      <td>-2.220126</td>\n",
       "      <td>-0.565041</td>\n",
       "      <td>0.00000</td>\n",
       "    </tr>\n",
       "    <tr>\n",
       "      <th>50%</th>\n",
       "      <td>0.027895</td>\n",
       "      <td>-0.033194</td>\n",
       "      <td>0.008145</td>\n",
       "      <td>0.002327</td>\n",
       "      <td>0.862818</td>\n",
       "      <td>0.027041</td>\n",
       "      <td>0.582321</td>\n",
       "      <td>0.018809</td>\n",
       "      <td>0.022092</td>\n",
       "      <td>-0.036110</td>\n",
       "      <td>0.019479</td>\n",
       "      <td>-0.075950</td>\n",
       "      <td>-2.103532</td>\n",
       "      <td>-0.005946</td>\n",
       "      <td>-0.033219</td>\n",
       "      <td>-0.019046</td>\n",
       "      <td>0.008360</td>\n",
       "      <td>-0.011366</td>\n",
       "      <td>0.488217</td>\n",
       "      <td>0.082688</td>\n",
       "      <td>0.094307</td>\n",
       "      <td>-0.004404</td>\n",
       "      <td>1.050071</td>\n",
       "      <td>0.970403</td>\n",
       "      <td>-0.012183</td>\n",
       "      <td>0.014636</td>\n",
       "      <td>-0.017535</td>\n",
       "      <td>0.039219</td>\n",
       "      <td>-0.489296</td>\n",
       "      <td>-0.040604</td>\n",
       "      <td>0.049416</td>\n",
       "      <td>0.049778</td>\n",
       "      <td>-0.568262</td>\n",
       "      <td>-0.028097</td>\n",
       "      <td>-0.493575</td>\n",
       "      <td>0.037732</td>\n",
       "      <td>0.455474</td>\n",
       "      <td>0.038284</td>\n",
       "      <td>-0.855470</td>\n",
       "      <td>0.779944</td>\n",
       "      <td>1.00000</td>\n",
       "    </tr>\n",
       "    <tr>\n",
       "      <th>75%</th>\n",
       "      <td>0.762520</td>\n",
       "      <td>0.682753</td>\n",
       "      <td>0.661434</td>\n",
       "      <td>0.640743</td>\n",
       "      <td>3.843172</td>\n",
       "      <td>0.671456</td>\n",
       "      <td>1.913664</td>\n",
       "      <td>1.438304</td>\n",
       "      <td>0.741310</td>\n",
       "      <td>0.665364</td>\n",
       "      <td>0.709416</td>\n",
       "      <td>0.644553</td>\n",
       "      <td>1.186164</td>\n",
       "      <td>0.664921</td>\n",
       "      <td>1.492611</td>\n",
       "      <td>0.678748</td>\n",
       "      <td>0.674583</td>\n",
       "      <td>0.588732</td>\n",
       "      <td>1.915022</td>\n",
       "      <td>0.711525</td>\n",
       "      <td>0.727896</td>\n",
       "      <td>0.673427</td>\n",
       "      <td>2.367748</td>\n",
       "      <td>3.825862</td>\n",
       "      <td>0.671318</td>\n",
       "      <td>0.731892</td>\n",
       "      <td>0.642797</td>\n",
       "      <td>0.706336</td>\n",
       "      <td>1.044188</td>\n",
       "      <td>1.614308</td>\n",
       "      <td>0.747031</td>\n",
       "      <td>0.699917</td>\n",
       "      <td>0.939348</td>\n",
       "      <td>0.651374</td>\n",
       "      <td>1.005795</td>\n",
       "      <td>0.691800</td>\n",
       "      <td>2.122157</td>\n",
       "      <td>0.693535</td>\n",
       "      <td>0.388698</td>\n",
       "      <td>1.992193</td>\n",
       "      <td>1.00000</td>\n",
       "    </tr>\n",
       "    <tr>\n",
       "      <th>max</th>\n",
       "      <td>3.326246</td>\n",
       "      <td>3.583870</td>\n",
       "      <td>2.546507</td>\n",
       "      <td>3.088738</td>\n",
       "      <td>17.565345</td>\n",
       "      <td>3.102997</td>\n",
       "      <td>7.592666</td>\n",
       "      <td>7.130097</td>\n",
       "      <td>3.145258</td>\n",
       "      <td>3.919426</td>\n",
       "      <td>3.409653</td>\n",
       "      <td>3.253032</td>\n",
       "      <td>12.186445</td>\n",
       "      <td>3.737423</td>\n",
       "      <td>6.959736</td>\n",
       "      <td>3.100935</td>\n",
       "      <td>2.805197</td>\n",
       "      <td>3.291544</td>\n",
       "      <td>7.074432</td>\n",
       "      <td>3.343812</td>\n",
       "      <td>2.938033</td>\n",
       "      <td>3.053262</td>\n",
       "      <td>8.096838</td>\n",
       "      <td>14.373681</td>\n",
       "      <td>2.981582</td>\n",
       "      <td>3.662800</td>\n",
       "      <td>3.293911</td>\n",
       "      <td>3.069885</td>\n",
       "      <td>7.413173</td>\n",
       "      <td>8.812739</td>\n",
       "      <td>2.844792</td>\n",
       "      <td>3.688047</td>\n",
       "      <td>7.160379</td>\n",
       "      <td>3.353631</td>\n",
       "      <td>6.005818</td>\n",
       "      <td>3.420561</td>\n",
       "      <td>6.603499</td>\n",
       "      <td>3.492548</td>\n",
       "      <td>5.774120</td>\n",
       "      <td>6.803984</td>\n",
       "      <td>1.00000</td>\n",
       "    </tr>\n",
       "  </tbody>\n",
       "</table>\n",
       "</div>"
      ],
      "text/plain": [
       "                 0            1            2            3            4  \\\n",
       "count  1000.000000  1000.000000  1000.000000  1000.000000  1000.000000   \n",
       "mean      0.025596    -0.024526    -0.024088    -0.002271     1.092329   \n",
       "std       1.008282     1.016298     0.979109     0.970575     4.538834   \n",
       "min      -3.365711    -3.492086    -2.695602    -3.460471   -16.421901   \n",
       "25%      -0.669010    -0.693937    -0.698830    -0.617557    -1.801997   \n",
       "50%       0.027895    -0.033194     0.008145     0.002327     0.862818   \n",
       "75%       0.762520     0.682753     0.661434     0.640743     3.843172   \n",
       "max       3.326246     3.583870     2.546507     3.088738    17.565345   \n",
       "\n",
       "                 5            6            7            8            9  \\\n",
       "count  1000.000000  1000.000000  1000.000000  1000.000000  1000.000000   \n",
       "mean     -0.006250     0.497342    -0.037883     0.026391    -0.003597   \n",
       "std       0.989128     2.118819     2.232256     1.001064     1.013520   \n",
       "min      -3.041250    -7.224761    -6.509084    -3.145588    -2.749812   \n",
       "25%      -0.732265    -0.838619    -1.604037    -0.677562    -0.682220   \n",
       "50%       0.027041     0.582321     0.018809     0.022092    -0.036110   \n",
       "75%       0.671456     1.913664     1.438304     0.741310     0.665364   \n",
       "max       3.102997     7.592666     7.130097     3.145258     3.919426   \n",
       "\n",
       "                10           11           12           13           14  \\\n",
       "count  1000.000000  1000.000000  1000.000000  1000.000000  1000.000000   \n",
       "mean     -0.016250    -0.038010    -1.985616     0.012374    -0.029229   \n",
       "std       1.026325     0.985889     4.528096     0.995652     2.164547   \n",
       "min      -3.304074    -3.157436   -14.706080    -3.002151    -6.790633   \n",
       "25%      -0.713704    -0.730293    -5.094964    -0.694081    -1.441443   \n",
       "50%       0.019479    -0.075950    -2.103532    -0.005946    -0.033219   \n",
       "75%       0.709416     0.644553     1.186164     0.664921     1.492611   \n",
       "max       3.409653     3.253032    12.186445     3.737423     6.959736   \n",
       "\n",
       "                15           16           17           18           19  \\\n",
       "count  1000.000000  1000.000000  1000.000000  1000.000000  1000.000000   \n",
       "mean     -0.039307    -0.004091    -0.032836     0.428313     0.043427   \n",
       "std       1.002481     0.970401     1.000130     2.176020     0.987689   \n",
       "min      -2.914729    -3.464048    -2.944093    -8.258306    -3.423875   \n",
       "25%      -0.757619    -0.668335    -0.727001    -0.983595    -0.594638   \n",
       "50%      -0.019046     0.008360    -0.011366     0.488217     0.082688   \n",
       "75%       0.678748     0.674583     0.588732     1.915022     0.711525   \n",
       "max       3.100935     2.805197     3.291544     7.074432     3.343812   \n",
       "\n",
       "                20           21           22           23           24  \\\n",
       "count  1000.000000  1000.000000  1000.000000  1000.000000  1000.000000   \n",
       "mean      0.073461    -0.005140     0.912288     0.902301    -0.023110   \n",
       "std       0.967282     0.980319     2.178778     4.241903     1.019566   \n",
       "min      -4.251382    -2.822644    -6.337522   -16.156070    -3.218446   \n",
       "25%      -0.588171    -0.698036    -0.542526    -1.822188    -0.720837   \n",
       "50%       0.094307    -0.004404     1.050071     0.970403    -0.012183   \n",
       "75%       0.727896     0.673427     2.367748     3.825862     0.671318   \n",
       "max       2.938033     3.053262     8.096838    14.373681     2.981582   \n",
       "\n",
       "                25           26           27           28           29  \\\n",
       "count  1000.000000  1000.000000  1000.000000  1000.000000  1000.000000   \n",
       "mean      0.047473    -0.041117     0.012985    -0.395782     0.123921   \n",
       "std       0.995752     0.998182     1.030610     2.296818     2.410453   \n",
       "min      -2.820792    -3.023811    -3.054384    -8.034421    -7.105723   \n",
       "25%      -0.617001    -0.668062    -0.696411    -1.936374    -1.562374   \n",
       "50%       0.014636    -0.017535     0.039219    -0.489296    -0.040604   \n",
       "75%       0.731892     0.642797     0.706336     1.044188     1.614308   \n",
       "max       3.662800     3.293911     3.069885     7.413173     8.812739   \n",
       "\n",
       "                30           31           32           33           34  \\\n",
       "count  1000.000000  1000.000000  1000.000000  1000.000000  1000.000000   \n",
       "mean      0.030651     0.022951    -0.542491    -0.011608    -0.483507   \n",
       "std       1.011645     1.001375     2.239939     1.022456     2.121281   \n",
       "min      -3.379194    -2.971125    -7.840890    -2.999564    -7.124105   \n",
       "25%      -0.659457    -0.696032    -2.121943    -0.664550    -1.879247   \n",
       "50%       0.049416     0.049778    -0.568262    -0.028097    -0.493575   \n",
       "75%       0.747031     0.699917     0.939348     0.651374     1.005795   \n",
       "max       2.844792     3.688047     7.160379     3.353631     6.005818   \n",
       "\n",
       "                35           36           37           38           39  \\\n",
       "count  1000.000000  1000.000000  1000.000000  1000.000000  1000.000000   \n",
       "mean      0.033371     0.567185     0.006849    -0.892659     0.609451   \n",
       "std       1.007044     2.227876     0.997635     2.022022     2.045439   \n",
       "min      -2.952358    -5.452254    -3.473913    -8.051722    -7.799086   \n",
       "25%      -0.642861    -1.059786    -0.691162    -2.220126    -0.565041   \n",
       "50%       0.037732     0.455474     0.038284    -0.855470     0.779944   \n",
       "75%       0.691800     2.122157     0.693535     0.388698     1.992193   \n",
       "max       3.420561     6.603499     3.492548     5.774120     6.803984   \n",
       "\n",
       "            label  \n",
       "count  1000.00000  \n",
       "mean      0.51000  \n",
       "std       0.50015  \n",
       "min       0.00000  \n",
       "25%       0.00000  \n",
       "50%       1.00000  \n",
       "75%       1.00000  \n",
       "max       1.00000  "
      ]
     },
     "execution_count": 7,
     "metadata": {},
     "output_type": "execute_result"
    }
   ],
   "source": [
    "data.describe()"
   ]
  },
  {
   "cell_type": "markdown",
   "metadata": {},
   "source": [
    "# EDA and Visualization"
   ]
  },
  {
   "cell_type": "code",
   "execution_count": 8,
   "metadata": {
    "ExecuteTime": {
     "end_time": "2019-05-06T06:44:39.423726Z",
     "start_time": "2019-05-06T06:44:39.342610Z"
    }
   },
   "outputs": [
    {
     "data": {
      "application/vnd.jupyter.widget-view+json": {
       "model_id": "63ddbc5f4a64455a9da98006595d0476",
       "version_major": 2,
       "version_minor": 0
      },
      "text/plain": [
       "interactive(children=(Dropdown(description='column', options=(0, 1, 2, 3, 4, 5, 6, 7, 8, 9, 10, 11, 12, 13, 14…"
      ]
     },
     "metadata": {},
     "output_type": "display_data"
    }
   ],
   "source": [
    "@interact\n",
    "def show_data(column=data.columns, l=(-20, 20), u=(-20,20)):\n",
    "    return data.loc[(data[column] <= u) & (data[column] >= l)]"
   ]
  },
  {
   "cell_type": "code",
   "execution_count": 9,
   "metadata": {
    "ExecuteTime": {
     "end_time": "2019-05-06T06:44:40.081992Z",
     "start_time": "2019-05-06T06:44:39.426717Z"
    }
   },
   "outputs": [
    {
     "data": {
      "application/vnd.jupyter.widget-view+json": {
       "model_id": "dba3beae3abb40dfaf231de33f3e6c12",
       "version_major": 2,
       "version_minor": 0
      },
      "text/plain": [
       "interactive(children=(Dropdown(description='column1', options=(0, 1, 2, 3, 4, 5, 6, 7, 8, 9, 10, 11, 12, 13, 1…"
      ]
     },
     "metadata": {},
     "output_type": "display_data"
    }
   ],
   "source": [
    "@interact\n",
    "def correlations_and_scatter_plot(column1=list(data.select_dtypes('number').columns),\n",
    "                column2=list(data.select_dtypes('number').columns),\n",
    "                                 label=True):\n",
    "    print(f'Correlation: {data[column1].corr(data[column2])}')\n",
    "    if label:\n",
    "        data.plot.scatter(x=column1, y=column2, figsize=(10,6), c='label', colormap='RdBu')\n",
    "    else:\n",
    "        data.plot.scatter(x=column1, y=column2, figsize=(10,6))"
   ]
  },
  {
   "cell_type": "code",
   "execution_count": 10,
   "metadata": {
    "ExecuteTime": {
     "end_time": "2019-05-06T06:44:40.690704Z",
     "start_time": "2019-05-06T06:44:40.085012Z"
    }
   },
   "outputs": [
    {
     "data": {
      "application/vnd.jupyter.widget-view+json": {
       "model_id": "dfbfd6c99e7946a89af287e44518a211",
       "version_major": 2,
       "version_minor": 0
      },
      "text/plain": [
       "interactive(children=(Dropdown(description='column', options=(0, 1, 2, 3, 4, 5, 6, 7, 8, 9, 10, 11, 12, 13, 14…"
      ]
     },
     "metadata": {},
     "output_type": "display_data"
    }
   ],
   "source": [
    "@interact\n",
    "def histogram(column=list(data.select_dtypes('number').columns), bins=(20, 260,20)):\n",
    "    data[column].plot.hist(bins=bins, figsize=(10,6))"
   ]
  },
  {
   "cell_type": "code",
   "execution_count": 11,
   "metadata": {
    "ExecuteTime": {
     "end_time": "2019-05-06T06:44:41.185922Z",
     "start_time": "2019-05-06T06:44:40.693697Z"
    }
   },
   "outputs": [
    {
     "data": {
      "application/vnd.jupyter.widget-view+json": {
       "model_id": "98ab1cea5b54453e8ccb03bf79bb1b45",
       "version_major": 2,
       "version_minor": 0
      },
      "text/plain": [
       "interactive(children=(Dropdown(description='column', options=(0, 1, 2, 3, 4, 5, 6, 7, 8, 9, 10, 11, 12, 13, 14…"
      ]
     },
     "metadata": {},
     "output_type": "display_data"
    }
   ],
   "source": [
    "def summary(series):\n",
    "    minimum = series.min()\n",
    "    maximum = series.max()\n",
    "    q1 = series.quantile(.25)\n",
    "    q2 = series.quantile(.5)\n",
    "    q3 = series.quantile(.75)\n",
    "    iqr = q3 - q1\n",
    "    ut = q3 + 1.5*iqr\n",
    "    lt = q1 - 1.5*iqr\n",
    "    return [minimum, lt, q1, q2, q3, ut, maximum]\n",
    "@interact\n",
    "def boxplot(column=list(data.select_dtypes('number').columns)):\n",
    "    description = pd.DataFrame()\n",
    "    description['All'] = summary(data[column])\n",
    "    description['0'] = summary(data[data['label'] == 0][column])\n",
    "    description['1'] = summary(data[data['label'] == 1][column])\n",
    "    description = description.transpose()\n",
    "    description.columns = ['Minimum', 'Lower Thr.', 'Q1', 'Median', 'Q3', 'Upper Thr.', 'Maximum']\n",
    "    print(description.to_string())\n",
    "    fig, ax = plt.subplots(nrows=1, ncols=2, figsize=(18,8))\n",
    "    data.boxplot(column=[column], by='label', figsize=(10,8), ax=ax[0])\n",
    "    data.boxplot(column=[column], figsize=(5,8), ax=ax[1])"
   ]
  },
  {
   "cell_type": "markdown",
   "metadata": {},
   "source": [
    "# Preprocessing"
   ]
  },
  {
   "cell_type": "code",
   "execution_count": 12,
   "metadata": {
    "ExecuteTime": {
     "end_time": "2019-05-06T06:44:41.314503Z",
     "start_time": "2019-05-06T06:44:41.189484Z"
    }
   },
   "outputs": [],
   "source": [
    "from sklearn.preprocessing import MinMaxScaler"
   ]
  },
  {
   "cell_type": "code",
   "execution_count": 13,
   "metadata": {
    "ExecuteTime": {
     "end_time": "2019-05-06T06:44:41.329788Z",
     "start_time": "2019-05-06T06:44:41.317438Z"
    }
   },
   "outputs": [],
   "source": [
    "scaler = MinMaxScaler()\n",
    "scaler.fit(data.drop(['label'], axis=1))\n",
    "scaled_data = scaler.transform(data.drop(['label'], axis=1))"
   ]
  },
  {
   "cell_type": "markdown",
   "metadata": {
    "ExecuteTime": {
     "end_time": "2019-05-05T09:31:29.355753Z",
     "start_time": "2019-05-05T09:31:27.891957Z"
    }
   },
   "source": [
    "# Machine Learning"
   ]
  },
  {
   "cell_type": "code",
   "execution_count": 14,
   "metadata": {
    "ExecuteTime": {
     "end_time": "2019-05-06T06:44:41.501783Z",
     "start_time": "2019-05-06T06:44:41.332809Z"
    }
   },
   "outputs": [],
   "source": [
    "from sklearn.metrics import classification_report, confusion_matrix, f1_score\n",
    "from sklearn.model_selection import train_test_split"
   ]
  },
  {
   "cell_type": "code",
   "execution_count": 15,
   "metadata": {
    "ExecuteTime": {
     "end_time": "2019-05-06T06:44:41.717971Z",
     "start_time": "2019-05-06T06:44:41.503763Z"
    }
   },
   "outputs": [],
   "source": [
    "from sklearn.linear_model import LogisticRegression, SGDClassifier\n",
    "from sklearn.naive_bayes import GaussianNB, MultinomialNB, BernoulliNB\n",
    "from sklearn.tree import DecisionTreeClassifier"
   ]
  },
  {
   "cell_type": "code",
   "execution_count": 16,
   "metadata": {
    "ExecuteTime": {
     "end_time": "2019-05-06T06:44:41.915094Z",
     "start_time": "2019-05-06T06:44:41.719969Z"
    }
   },
   "outputs": [
    {
     "data": {
      "application/vnd.jupyter.widget-view+json": {
       "model_id": "113e775600be499ba46dab618aec517a",
       "version_major": 2,
       "version_minor": 0
      },
      "text/plain": [
       "interactive(children=(Dropdown(description='model', options=('LogisticRegression', 'GaussianNB', 'MultinomialN…"
      ]
     },
     "metadata": {},
     "output_type": "display_data"
    }
   ],
   "source": [
    "models_dict = {\n",
    "    'LogisticRegression': LogisticRegression(),\n",
    "    'GaussianNB': GaussianNB(),\n",
    "    'MultinomialNB': MultinomialNB(),\n",
    "    'BernoulliNB': BernoulliNB(),\n",
    "    'DecisionTreeClassifier': DecisionTreeClassifier(),\n",
    "    'SGDClassifier': SGDClassifier(),\n",
    "}\n",
    "@interact\n",
    "def machineLearning(model= ['LogisticRegression', 'GaussianNB', 'MultinomialNB', 'BernoulliNB', \n",
    "                            'DecisionTreeClassifier', 'SGDClassifier'],\n",
    "                   test_size=(10, 40)):\n",
    "    X_train, X_test, y_train, y_test = train_test_split(scaled_data, train_label[0], test_size=test_size/100, random_state=101)\n",
    "    model = models_dict[model]\n",
    "    model.fit(X_train, y_train)\n",
    "    y_pred = model.predict(X_test)\n",
    "    print(confusion_matrix(y_pred, y_test))\n",
    "    print(classification_report(y_pred, y_test))"
   ]
  },
  {
   "cell_type": "code",
   "execution_count": 17,
   "metadata": {
    "ExecuteTime": {
     "end_time": "2019-05-06T06:44:42.478154Z",
     "start_time": "2019-05-06T06:44:41.919083Z"
    }
   },
   "outputs": [
    {
     "data": {
      "text/plain": [
       "[Text(0, 0, 'TP'), Text(0, 0, 'FP'), Text(0, 0, 'FN'), Text(0, 0, 'TN')]"
      ]
     },
     "execution_count": 17,
     "metadata": {},
     "output_type": "execute_result"
    },
    {
     "data": {
      "image/png": "[encoded data removed]",
      "text/plain": [
       "<Figure size 1152x432 with 1 Axes>"
      ]
     },
     "metadata": {
      "needs_background": "light"
     },
     "output_type": "display_data"
    }
   ],
   "source": [
    "confusionmatrix = pd.DataFrame()\n",
    "for algoname, algo in models_dict.items():\n",
    "    X_train, X_test, y_train, y_test = train_test_split(scaled_data, train_label[0], test_size=0.25, random_state=101)\n",
    "    model = algo\n",
    "    model.fit(X_train, y_train)\n",
    "    y_pred = model.predict(X_test)\n",
    "    cm = confusion_matrix(y_pred, y_test)\n",
    "    metric = []\n",
    "    for i in range(2):\n",
    "        for j in range(2):\n",
    "            metric.append(cm[i][j])\n",
    "    confusionmatrix[algoname] = metric\n",
    "\n",
    "confusionmatrix['Metric'] = ['TP', 'FP', 'FN', 'TN']\n",
    "\n",
    "# confusionmatrix\n",
    "\n",
    "ax = confusionmatrix.plot(figsize=(16,6))\n",
    "ax.set_xticks(confusionmatrix.index)\n",
    "ax.set_xticklabels(confusionmatrix.Metric)"
   ]
  },
  {
   "cell_type": "markdown",
   "metadata": {},
   "source": [
    "# Deeplearning"
   ]
  },
  {
   "cell_type": "code",
   "execution_count": 18,
   "metadata": {
    "ExecuteTime": {
     "end_time": "2019-05-06T06:44:45.095547Z",
     "start_time": "2019-05-06T06:44:42.480644Z"
    }
   },
   "outputs": [
    {
     "name": "stderr",
     "output_type": "stream",
     "text": [
      "Using TensorFlow backend.\n"
     ]
    }
   ],
   "source": [
    "from keras.models import Sequential\n",
    "from keras.layers import Dense, Dropout\n",
    "from keras.callbacks import EarlyStopping, ModelCheckpoint"
   ]
  },
  {
   "cell_type": "code",
   "execution_count": 19,
   "metadata": {
    "ExecuteTime": {
     "end_time": "2019-05-06T06:44:45.102450Z",
     "start_time": "2019-05-06T06:44:45.097462Z"
    }
   },
   "outputs": [],
   "source": [
    "es = EarlyStopping(monitor='loss', mode='min', verbose=3)\n",
    "filepath = \"model.h5\"\n",
    "ckpt = ModelCheckpoint(filepath, monitor='loss', verbose=3, save_best_only=True, mode='min')"
   ]
  },
  {
   "cell_type": "code",
   "execution_count": 20,
   "metadata": {
    "ExecuteTime": {
     "end_time": "2019-05-06T06:44:45.276200Z",
     "start_time": "2019-05-06T06:44:45.107437Z"
    }
   },
   "outputs": [],
   "source": [
    "def build_network():\n",
    "    model = Sequential()\n",
    "    model.add(Dense(160,input_dim=40, activation='relu'))\n",
    "    model.add(Dropout(0.2))\n",
    "    model.add(Dense(320, activation='relu'))\n",
    "    model.add(Dropout(0.2))\n",
    "    model.add(Dense(365, activation='relu'))\n",
    "    model.add(Dropout(0.2))\n",
    "    model.add(Dense(125, activation='relu'))\n",
    "    model.add(Dropout(0.2))\n",
    "    model.add(Dense(25, activation='relu'))\n",
    "    model.add(Dropout(0.2))\n",
    "    model.add(Dense(1, activation='sigmoid'))\n",
    "    model.compile(loss='binary_crossentropy', optimizer='adam', metrics=['accuracy'])\n",
    "    model.summary()\n",
    "    return model"
   ]
  },
  {
   "cell_type": "code",
   "execution_count": 21,
   "metadata": {
    "ExecuteTime": {
     "end_time": "2019-05-06T06:44:45.939639Z",
     "start_time": "2019-05-06T06:44:45.279110Z"
    }
   },
   "outputs": [
    {
     "name": "stdout",
     "output_type": "stream",
     "text": [
      "WARNING:tensorflow:From D:\\Users\\Ritvik\\Anaconda3\\envs\\datascience\\lib\\site-packages\\tensorflow\\python\\framework\\op_def_library.py:263: colocate_with (from tensorflow.python.framework.ops) is deprecated and will be removed in a future version.\n",
      "Instructions for updating:\n",
      "Colocations handled automatically by placer.\n",
      "WARNING:tensorflow:From D:\\Users\\Ritvik\\Anaconda3\\envs\\datascience\\lib\\site-packages\\keras\\backend\\tensorflow_backend.py:3445: calling dropout (from tensorflow.python.ops.nn_ops) with keep_prob is deprecated and will be removed in a future version.\n",
      "Instructions for updating:\n",
      "Please use `rate` instead of `keep_prob`. Rate should be set to `rate = 1 - keep_prob`.\n",
      "_________________________________________________________________\n",
      "Layer (type)                 Output Shape              Param #   \n",
      "=================================================================\n",
      "dense_1 (Dense)              (None, 160)               6560      \n",
      "_________________________________________________________________\n",
      "dropout_1 (Dropout)          (None, 160)               0         \n",
      "_________________________________________________________________\n",
      "dense_2 (Dense)              (None, 320)               51520     \n",
      "_________________________________________________________________\n",
      "dropout_2 (Dropout)          (None, 320)               0         \n",
      "_________________________________________________________________\n",
      "dense_3 (Dense)              (None, 365)               117165    \n",
      "_________________________________________________________________\n",
      "dropout_3 (Dropout)          (None, 365)               0         \n",
      "_________________________________________________________________\n",
      "dense_4 (Dense)              (None, 125)               45750     \n",
      "_________________________________________________________________\n",
      "dropout_4 (Dropout)          (None, 125)               0         \n",
      "_________________________________________________________________\n",
      "dense_5 (Dense)              (None, 25)                3150      \n",
      "_________________________________________________________________\n",
      "dropout_5 (Dropout)          (None, 25)                0         \n",
      "_________________________________________________________________\n",
      "dense_6 (Dense)              (None, 1)                 26        \n",
      "=================================================================\n",
      "Total params: 224,171\n",
      "Trainable params: 224,171\n",
      "Non-trainable params: 0\n",
      "_________________________________________________________________\n"
     ]
    }
   ],
   "source": [
    "model = build_network()"
   ]
  },
  {
   "cell_type": "code",
   "execution_count": 22,
   "metadata": {
    "ExecuteTime": {
     "end_time": "2019-05-06T06:44:54.244460Z",
     "start_time": "2019-05-06T06:44:45.942666Z"
    }
   },
   "outputs": [
    {
     "name": "stdout",
     "output_type": "stream",
     "text": [
      "WARNING:tensorflow:From D:\\Users\\Ritvik\\Anaconda3\\envs\\datascience\\lib\\site-packages\\tensorflow\\python\\ops\\math_ops.py:3066: to_int32 (from tensorflow.python.ops.math_ops) is deprecated and will be removed in a future version.\n",
      "Instructions for updating:\n",
      "Use tf.cast instead.\n",
      "Train on 700 samples, validate on 300 samples\n",
      "Epoch 1/25\n",
      "700/700 [==============================] - 2s 3ms/step - loss: 0.6942 - acc: 0.5357 - val_loss: 0.6788 - val_acc: 0.4933\n",
      "\n",
      "Epoch 00001: loss improved from inf to 0.69419, saving model to model.h5\n",
      "Epoch 2/25\n",
      "700/700 [==============================] - 0s 321us/step - loss: 0.6592 - acc: 0.6043 - val_loss: 0.5917 - val_acc: 0.7333\n",
      "\n",
      "Epoch 00002: loss improved from 0.69419 to 0.65922, saving model to model.h5\n",
      "Epoch 3/25\n",
      "700/700 [==============================] - 0s 303us/step - loss: 0.5605 - acc: 0.7043 - val_loss: 0.5398 - val_acc: 0.7300\n",
      "\n",
      "Epoch 00003: loss improved from 0.65922 to 0.56046, saving model to model.h5\n",
      "Epoch 4/25\n",
      "700/700 [==============================] - 0s 342us/step - loss: 0.5291 - acc: 0.7571 - val_loss: 0.5434 - val_acc: 0.7133\n",
      "\n",
      "Epoch 00004: loss improved from 0.56046 to 0.52911, saving model to model.h5\n",
      "Epoch 5/25\n",
      "700/700 [==============================] - 0s 321us/step - loss: 0.5040 - acc: 0.7629 - val_loss: 0.4911 - val_acc: 0.7967\n",
      "\n",
      "Epoch 00005: loss improved from 0.52911 to 0.50395, saving model to model.h5\n",
      "Epoch 6/25\n",
      "700/700 [==============================] - 0s 328us/step - loss: 0.4461 - acc: 0.8114 - val_loss: 0.4557 - val_acc: 0.8267\n",
      "\n",
      "Epoch 00006: loss improved from 0.50395 to 0.44609, saving model to model.h5\n",
      "Epoch 7/25\n",
      "700/700 [==============================] - 0s 315us/step - loss: 0.4442 - acc: 0.7971 - val_loss: 0.4569 - val_acc: 0.7900\n",
      "\n",
      "Epoch 00007: loss improved from 0.44609 to 0.44419, saving model to model.h5\n",
      "Epoch 8/25\n",
      "700/700 [==============================] - 0s 297us/step - loss: 0.3931 - acc: 0.8371 - val_loss: 0.4464 - val_acc: 0.8267\n",
      "\n",
      "Epoch 00008: loss improved from 0.44419 to 0.39306, saving model to model.h5\n",
      "Epoch 9/25\n",
      "700/700 [==============================] - 0s 309us/step - loss: 0.4154 - acc: 0.8286 - val_loss: 0.4444 - val_acc: 0.8200\n",
      "\n",
      "Epoch 00009: loss did not improve from 0.39306\n",
      "Epoch 00009: early stopping\n"
     ]
    },
    {
     "data": {
      "text/plain": [
       "<keras.callbacks.History at 0x2001916cba8>"
      ]
     },
     "execution_count": 22,
     "metadata": {},
     "output_type": "execute_result"
    }
   ],
   "source": [
    "model.fit(scaled_data, train_label[0], validation_split=0.3, epochs=25, callbacks=[es, ckpt])"
   ]
  },
  {
   "cell_type": "code",
   "execution_count": null,
   "metadata": {},
   "outputs": [],
   "source": []
  }
 ],
 "metadata": {
  "kernelspec": {
   "display_name": "Python 3",
   "language": "python",
   "name": "python3"
  },
  "language_info": {
   "codemirror_mode": {
    "name": "ipython",
    "version": 3
   },
   "file_extension": ".py",
   "mimetype": "text/x-python",
   "name": "python",
   "nbconvert_exporter": "python",
   "pygments_lexer": "ipython3",
   "version": "3.7.3"
  },
  "toc": {
   "base_numbering": 1,
   "nav_menu": {},
   "number_sections": true,
   "sideBar": true,
   "skip_h1_title": false,
   "title_cell": "Table of Contents",
   "title_sidebar": "Contents",
   "toc_cell": false,
   "toc_position": {},
   "toc_section_display": true,
   "toc_window_display": false
  },
  "varInspector": {
   "cols": {
    "lenName": 16,
    "lenType": 16,
    "lenVar": 40
   },
   "kernels_config": {
    "python": {
     "delete_cmd_postfix": "",
     "delete_cmd_prefix": "del ",
     "library": "var_list.py",
     "varRefreshCmd": "print(var_dic_list())"
    },
    "r": {
     "delete_cmd_postfix": ") ",
     "delete_cmd_prefix": "rm(",
     "library": "var_list.r",
     "varRefreshCmd": "cat(var_dic_list()) "
    }
   },
   "types_to_exclude": [
    "module",
    "function",
    "builtin_function_or_method",
    "instance",
    "_Feature"
   ],
   "window_display": false
  }
 },
 "nbformat": 4,
 "nbformat_minor": 2
}
